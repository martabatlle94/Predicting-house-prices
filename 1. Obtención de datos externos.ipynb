{
 "cells": [
  {
   "cell_type": "markdown",
   "metadata": {},
   "source": [
    "### Número de hipotecas"
   ]
  },
  {
   "cell_type": "code",
   "execution_count": 1,
   "metadata": {},
   "outputs": [],
   "source": [
    "import requests\n",
    "import time\n",
    "import pprint\n",
    "import pickle\n",
    "import numpy as np\n",
    "import json\n",
    "import pandas as pd\n",
    "import matplotlib.pyplot as plt\n",
    "from collections import Counter\n",
    "from wordcloud import WordCloud\n",
    "import xml.etree.ElementTree as ET\n",
    "import re\n",
    "from unicodedata import normalize"
   ]
  },
  {
   "cell_type": "code",
   "execution_count": 2,
   "metadata": {},
   "outputs": [],
   "source": [
    "def troceador_calles_api(street):\n",
    "    words_street = []\n",
    "    words_in_street = street.split(' ')\n",
    "    for word in words_in_street:\n",
    "        words = word.split(',')\n",
    "        for w in words:\n",
    "            if '/' in w:\n",
    "                words.extend(w.split('/'))\n",
    "        for w in words:\n",
    "            if len(w) > 2 and w.upper() != 'DEL':\n",
    "                words_street.append(w)\n",
    "    return words_street\n",
    "          \n",
    "def comparador(streets_api, street_to_find):\n",
    "    words_street_to_find = troceador_calles_api(street_to_find)\n",
    "    streets = []\n",
    "    for street in streets_api:\n",
    "        words_street_api = troceador_calles_api(street)\n",
    "        coincidences = 0\n",
    "        for w1 in words_street_api:\n",
    "            w1 = normalizador(w1)\n",
    "            len_w1 = len(w1)\n",
    "            coincidences_words = 0\n",
    "            for w2 in words_street_to_find:\n",
    "                w2 = normalizador(w2)\n",
    "                if len_w1-1 < len(w2) < len_w1+1:\n",
    "                    if w2 in w1:\n",
    "                        coincidences_words += 1\n",
    "            coincidences += coincidences_words\n",
    "        if coincidences == len(words_street_to_find) and coincidences != 0:\n",
    "            streets.append(street)\n",
    "        elif coincidences >= max(int((len(words_street_api)+1)/2), int((len(words_street_to_find)+1)/2)):\n",
    "            streets.append(street)\n",
    "    \n",
    "    if len(streets)==1:\n",
    "        return streets[0]\n",
    "    else:\n",
    "        if len(set(streets))==1:\n",
    "            return streets[0]\n",
    "        else:\n",
    "            for street in streets:\n",
    "                if normalizador(street) in normalizador(street_to_find):\n",
    "                    return street\n",
    "            return False\n",
    "        \n",
    "def normalizador(string):\n",
    "    string = re.sub(\n",
    "        r\"([^n\\u0300-\\u036f]|n(?!\\u0303(?![\\u0300-\\u036f])))[\\u0300-\\u036f]+\", r\"\\1\", \n",
    "        normalize( \"NFD\", str(string)), 0, re.I\n",
    "    )\n",
    "    string = string.lower()\n",
    "    return normalize( 'NFC', string)\n",
    "\n",
    "def parseo_fecha_cuatrimeste(row):\n",
    "    if row[1] == 'Primero':\n",
    "        date = '01/01/'\n",
    "    elif row[1] == 'Segundo':\n",
    "        date = '01/04/'\n",
    "    elif row[1] == 'Tercero':\n",
    "        date = '01/07/'\n",
    "    elif row[1] == 'Cuarto':\n",
    "        date = '01/10/'\n",
    "    return date+str(row[0])"
   ]
  },
  {
   "cell_type": "code",
   "execution_count": 3,
   "metadata": {},
   "outputs": [],
   "source": [
    "#AL EJECUTAR ESTE SCRIPT ACTUALIZAMOS LAS VIVIENDAS QUE TENEMOS DISPONIBLES PARA EL MODELO\n",
    "#lA SIGUIENTE TABLA ES LA TABLA FINAL QUE PROVIENE DEL PROYECTO Proyecto_datos_finales de SAS\n",
    "data_tablin = pd.read_csv(r'C:\\Users\\Marta\\Scripts - Presentación\\DATOS_FINAL.csv', \n",
    "                   sep=';', engine=\"python\", encoding=\"latin1\")"
   ]
  },
  {
   "cell_type": "code",
   "execution_count": 4,
   "metadata": {},
   "outputs": [],
   "source": [
    "#DOCUMENTO QUE HEMOS DESCARGADO DEL INE, VER EL LINK DE DESCARGA EN LA DOCUMENTACIÓN\n",
    "data_ine = pd.read_csv(r'C:\\Users\\Marta\\Desktop\\Rotación 2 SBD\\BackUp_Proyecto\\Python Scripts\\Modelo evolución precios\\Datos\\INE\\Hipotecas_constituidas2.csv', \n",
    "                   sep=';', skiprows=7, engine=\"python\", decimal='.', encoding=\"latin1\")\n",
    "\n",
    "data_ine.drop(data_ine.tail(3).index,inplace=True)\n",
    "data_ine=data_ine.fillna(\"nan\")\n",
    "data_ine= data_ine.iloc[:,:-1]\n",
    "data_ine= data_ine[1:]"
   ]
  },
  {
   "cell_type": "code",
   "execution_count": 5,
   "metadata": {},
   "outputs": [],
   "source": [
    "province_pc = list(data_ine.iloc[:, 0].apply(lambda s: s[:2]))\n",
    "province_name = list(data_ine.iloc[:, 0].apply(lambda s: s[3:]))\n"
   ]
  },
  {
   "cell_type": "code",
   "execution_count": 6,
   "metadata": {},
   "outputs": [],
   "source": [
    "for num_col in range(1, len(data_ine.columns)):\n",
    "    \n",
    "    date_year = [data_ine.columns[num_col][:4]]*len(data_ine)\n",
    "    date_month = [data_ine.columns[num_col][5:7]]*len(data_ine)\n",
    "    value = list(data_ine.iloc[:, num_col])\n",
    "    \n",
    "    df_month = pd.DataFrame({'Código provincia':province_pc, 'Provincia':province_name,\n",
    "                             'Año':date_year, 'Código mes':date_month, 'Hipotecas':value })\n",
    "    \n",
    "    if num_col == 1:\n",
    "        df_ine = df_month\n",
    "    else:\n",
    "        df_ine = df_ine.append(df_month)"
   ]
  },
  {
   "cell_type": "code",
   "execution_count": 7,
   "metadata": {},
   "outputs": [],
   "source": [
    "df_ine['Hipotecas']=df_ine['Hipotecas'].astype('int')"
   ]
  },
  {
   "cell_type": "code",
   "execution_count": 8,
   "metadata": {},
   "outputs": [],
   "source": [
    "dict_month = {'01':'Primero', '02':'Primero', '03':'Primero', '04':'Segundo', '05':'Segundo', '06':'Segundo', '07':'Tercero', '08':'Tercero', '09':'Tercero', '10': 'Cuarto', '11':'Cuarto', '12':'Cuarto'} \n",
    "\n",
    "df_ine['Cuatrimestre'] = df_ine['Código mes'].map(dict_month)\n",
    "\n",
    "\n",
    "df_ine['Fecha'] = df_ine.loc[:,['Año', 'Cuatrimestre']].apply(parseo_fecha_cuatrimeste,  axis=1)\n",
    "\n",
    "col_to_del = ['Año', 'Código mes', 'Cuatrimestre']\n",
    "for col in col_to_del:\n",
    "    del df_ine[col]"
   ]
  },
  {
   "cell_type": "code",
   "execution_count": 9,
   "metadata": {},
   "outputs": [],
   "source": [
    "df_ine['Código provincia']= df_ine['Código provincia'].replace('01', '1')\n",
    "df_ine['Código provincia']=df_ine['Código provincia'].replace('02', '2')\n",
    "df_ine['Código provincia']=df_ine['Código provincia'].replace('03', '3')\n",
    "df_ine['Código provincia']=df_ine['Código provincia'].replace('04', '4')\n",
    "df_ine['Código provincia']=df_ine['Código provincia'].replace('05', '5')\n",
    "df_ine['Código provincia']=df_ine['Código provincia'].replace('06', '6')\n",
    "df_ine['Código provincia']=df_ine['Código provincia'].replace('07', '7')\n",
    "df_ine['Código provincia']=df_ine['Código provincia'].replace('08', '8')\n",
    "df_ine['Código provincia']=df_ine['Código provincia'].replace('09', '9')\n",
    "df_ine.columns= ['CODPROVINC', 'Provincia', 'Hipotecas', 'Fecha']"
   ]
  },
  {
   "cell_type": "code",
   "execution_count": 10,
   "metadata": {},
   "outputs": [],
   "source": [
    "data_tablin = data_tablin[data_tablin['FCHTASAC'].notnull()]\n",
    "data_tablin.loc[:,'DIA'] = data_tablin['FCHTASAC'].apply(lambda s: s[:2])\n",
    "data_tablin.loc[:,'MES'] = data_tablin['FCHTASAC'].apply(lambda s: s[2:5])\n",
    "data_tablin.loc[:,'AÑO'] = data_tablin['FCHTASAC'].apply(lambda s: int(s[5:9]))\n",
    "dict_cuatri = {'NOV':'Cuarto', 'SEP':'Tercero', 'OCT':'Cuarto', 'DEC':'Cuarto', 'MAR':'Primero', 'JAN':'Primero', 'MAY':'Segundo', 'FEB':'Primero', 'APR':'Segundo', 'JUN':'Segundo', 'JUL':'Tercero', 'AUG':'Tercero'}\n",
    "data_tablin['CUATRIMESTRE'] = data_tablin['MES'].map(dict_cuatri)\n",
    "data_tablin = data_tablin[(data_tablin['AÑO']>1994)&(data_tablin['AÑO']<2019)]\n",
    "\n",
    "data_tablin['Fecha'] = data_tablin.loc[:,['AÑO', 'CUATRIMESTRE']].apply(parseo_fecha_cuatrimeste,  axis=1)\n",
    "\n",
    "columns_to_del = ['DIA','CUATRIMESTRE','FCHTASAC']\n",
    "for col in columns_to_del:\n",
    "    del data_tablin[col]"
   ]
  },
  {
   "cell_type": "code",
   "execution_count": 11,
   "metadata": {},
   "outputs": [],
   "source": [
    "data_tablin['CODPROVINC'] = pd.to_numeric(data_tablin['CODPROVINC'])\n",
    "df_ine['CODPROVINC'] = pd.to_numeric(df_ine['CODPROVINC'])"
   ]
  },
  {
   "cell_type": "code",
   "execution_count": 12,
   "metadata": {},
   "outputs": [],
   "source": [
    "df_ine['Fecha']= pd.to_datetime(df_ine['Fecha'], format='%d/%m/%Y')\n",
    "data_tablin['Fecha']= pd.to_datetime(data_tablin['Fecha'], format='%d/%m/%Y')"
   ]
  },
  {
   "cell_type": "code",
   "execution_count": 13,
   "metadata": {},
   "outputs": [],
   "source": [
    "df_ine=df_ine.groupby(['CODPROVINC', 'Fecha'])['Hipotecas'].mean().round(2).reset_index()"
   ]
  },
  {
   "cell_type": "code",
   "execution_count": 14,
   "metadata": {},
   "outputs": [],
   "source": [
    "data_tablin= data_tablin.merge(df_ine, left_on=['Fecha', 'CODPROVINC'],\n",
    "                                    right_on=['Fecha', 'CODPROVINC'], how='left')"
   ]
  },
  {
   "cell_type": "markdown",
   "metadata": {},
   "source": [
    "### Tasa de desempleo "
   ]
  },
  {
   "cell_type": "code",
   "execution_count": 15,
   "metadata": {},
   "outputs": [],
   "source": [
    "data_desempleo = pd.read_csv(r'C:\\Users\\Marta\\Desktop\\Rotación 2 SBD\\BackUp_Proyecto\\Python Scripts\\Modelo evolución precios\\Datos\\INE\\Desempleo\\desempleo2.csv', \n",
    "                   sep=',', engine=\"python\", decimal=',', encoding=\"latin1\")"
   ]
  },
  {
   "cell_type": "code",
   "execution_count": 16,
   "metadata": {},
   "outputs": [],
   "source": [
    "data_desempleo.index = range(len(data_desempleo))"
   ]
  },
  {
   "cell_type": "code",
   "execution_count": 17,
   "metadata": {},
   "outputs": [],
   "source": [
    "data_desempleo['Prov']=data_desempleo['Prov'].apply(lambda s: s[:6])"
   ]
  },
  {
   "cell_type": "code",
   "execution_count": 18,
   "metadata": {},
   "outputs": [],
   "source": [
    "prov_tablin = list(data_tablin.CODPROVINC.unique())\n",
    "prov_fomento = list(data_desempleo.Prov.unique())"
   ]
  },
  {
   "cell_type": "code",
   "execution_count": 19,
   "metadata": {},
   "outputs": [],
   "source": [
    "provinces = data_desempleo.Prov\n",
    "dict_quarter = {'T1':'Primero', 'T2':'Segundo', 'T3':'Tercero', 'T4':'Cuarto'}\n"
   ]
  },
  {
   "cell_type": "code",
   "execution_count": 20,
   "metadata": {},
   "outputs": [],
   "source": [
    "for col in data_desempleo.columns[1:]:\n",
    "    \n",
    "    year = [col[:4]]*len(data_desempleo)\n",
    "    quarter = [dict_quarter[col[4:]]]*len(data_desempleo)\n",
    "    disemploy = data_desempleo.loc[:,col]\n",
    "    \n",
    "    if col == '2019T2':\n",
    "        data_disemploy = pd.DataFrame({'Provincia':provinces, 'Año':year, 'Cuatrimestre':quarter, 'Tasa desempleo':disemploy})\n",
    "    else:\n",
    "        data_disemploy = data_disemploy.append(pd.DataFrame({'Provincia':provinces, 'Año':year, 'Cuatrimestre':quarter, 'Tasa desempleo':disemploy}))"
   ]
  },
  {
   "cell_type": "code",
   "execution_count": 21,
   "metadata": {},
   "outputs": [],
   "source": [
    "data_disemploy['Fecha'] = data_disemploy.loc[:,['Año', 'Cuatrimestre']].apply(parseo_fecha_cuatrimeste,  axis=1)"
   ]
  },
  {
   "cell_type": "code",
   "execution_count": 22,
   "metadata": {},
   "outputs": [],
   "source": [
    "col_to_del = ['Año', 'Cuatrimestre']\n",
    "for col in col_to_del:\n",
    "    del data_disemploy[col]"
   ]
  },
  {
   "cell_type": "code",
   "execution_count": 23,
   "metadata": {},
   "outputs": [
    {
     "data": {
      "text/html": [
       "<div>\n",
       "<style scoped>\n",
       "    .dataframe tbody tr th:only-of-type {\n",
       "        vertical-align: middle;\n",
       "    }\n",
       "\n",
       "    .dataframe tbody tr th {\n",
       "        vertical-align: top;\n",
       "    }\n",
       "\n",
       "    .dataframe thead th {\n",
       "        text-align: right;\n",
       "    }\n",
       "</style>\n",
       "<table border=\"1\" class=\"dataframe\">\n",
       "  <thead>\n",
       "    <tr style=\"text-align: right;\">\n",
       "      <th></th>\n",
       "      <th>Provincia</th>\n",
       "      <th>Tasa desempleo</th>\n",
       "      <th>Fecha</th>\n",
       "    </tr>\n",
       "  </thead>\n",
       "  <tbody>\n",
       "    <tr>\n",
       "      <td>0</td>\n",
       "      <td>02</td>\n",
       "      <td>17.70</td>\n",
       "      <td>01/04/2019</td>\n",
       "    </tr>\n",
       "    <tr>\n",
       "      <td>1</td>\n",
       "      <td>03</td>\n",
       "      <td>14.71</td>\n",
       "      <td>01/04/2019</td>\n",
       "    </tr>\n",
       "    <tr>\n",
       "      <td>2</td>\n",
       "      <td>04</td>\n",
       "      <td>16.12</td>\n",
       "      <td>01/04/2019</td>\n",
       "    </tr>\n",
       "    <tr>\n",
       "      <td>3</td>\n",
       "      <td>01</td>\n",
       "      <td>8.04</td>\n",
       "      <td>01/04/2019</td>\n",
       "    </tr>\n",
       "    <tr>\n",
       "      <td>4</td>\n",
       "      <td>33</td>\n",
       "      <td>14.17</td>\n",
       "      <td>01/04/2019</td>\n",
       "    </tr>\n",
       "    <tr>\n",
       "      <td>...</td>\n",
       "      <td>...</td>\n",
       "      <td>...</td>\n",
       "      <td>...</td>\n",
       "    </tr>\n",
       "    <tr>\n",
       "      <td>47</td>\n",
       "      <td>47</td>\n",
       "      <td>14.76</td>\n",
       "      <td>01/01/2002</td>\n",
       "    </tr>\n",
       "    <tr>\n",
       "      <td>48</td>\n",
       "      <td>49</td>\n",
       "      <td>10.13</td>\n",
       "      <td>01/01/2002</td>\n",
       "    </tr>\n",
       "    <tr>\n",
       "      <td>49</td>\n",
       "      <td>50</td>\n",
       "      <td>5.52</td>\n",
       "      <td>01/01/2002</td>\n",
       "    </tr>\n",
       "    <tr>\n",
       "      <td>50</td>\n",
       "      <td>51</td>\n",
       "      <td>7.01</td>\n",
       "      <td>01/01/2002</td>\n",
       "    </tr>\n",
       "    <tr>\n",
       "      <td>51</td>\n",
       "      <td>52</td>\n",
       "      <td>10.30</td>\n",
       "      <td>01/01/2002</td>\n",
       "    </tr>\n",
       "  </tbody>\n",
       "</table>\n",
       "<p>3640 rows × 3 columns</p>\n",
       "</div>"
      ],
      "text/plain": [
       "   Provincia  Tasa desempleo       Fecha\n",
       "0         02           17.70  01/04/2019\n",
       "1         03           14.71  01/04/2019\n",
       "2         04           16.12  01/04/2019\n",
       "3         01            8.04  01/04/2019\n",
       "4         33           14.17  01/04/2019\n",
       "..       ...             ...         ...\n",
       "47        47           14.76  01/01/2002\n",
       "48        49           10.13  01/01/2002\n",
       "49        50            5.52  01/01/2002\n",
       "50        51            7.01  01/01/2002\n",
       "51        52           10.30  01/01/2002\n",
       "\n",
       "[3640 rows x 3 columns]"
      ]
     },
     "execution_count": 23,
     "metadata": {},
     "output_type": "execute_result"
    }
   ],
   "source": [
    "data_disemploy"
   ]
  },
  {
   "cell_type": "code",
   "execution_count": 24,
   "metadata": {},
   "outputs": [],
   "source": [
    "data_disemploy['Provincia']=data_disemploy['Provincia'].replace('01', '1')\n",
    "data_disemploy['Provincia']=data_disemploy['Provincia'].replace('02', '2')\n",
    "data_disemploy['Provincia']=data_disemploy['Provincia'].replace('03', '3')\n",
    "data_disemploy['Provincia']=data_disemploy['Provincia'].replace('04', '4')\n",
    "data_disemploy['Provincia']=data_disemploy['Provincia'].replace('05', '5')\n",
    "data_disemploy['Provincia']=data_disemploy['Provincia'].replace('06', '6')\n",
    "data_disemploy['Provincia']=data_disemploy['Provincia'].replace('07', '7')\n",
    "data_disemploy['Provincia']=data_disemploy['Provincia'].replace('08', '8')\n",
    "data_disemploy['Provincia']=data_disemploy['Provincia'].replace('09', '9')"
   ]
  },
  {
   "cell_type": "code",
   "execution_count": 25,
   "metadata": {},
   "outputs": [],
   "source": [
    "data_disemploy['Provincia'] = pd.to_numeric(data_disemploy['Provincia'])\n",
    "data_tablin['CODPROVINC'] = pd.to_numeric(data_tablin['CODPROVINC'])\n",
    "data_disemploy['Fecha']= pd.to_datetime(data_disemploy['Fecha'], format='%d/%m/%Y')"
   ]
  },
  {
   "cell_type": "code",
   "execution_count": 26,
   "metadata": {},
   "outputs": [],
   "source": [
    "data_tablin= data_tablin.merge(data_disemploy, left_on=['Fecha', 'CODPROVINC'], right_on=['Fecha', 'Provincia'], how='left')"
   ]
  },
  {
   "cell_type": "code",
   "execution_count": 27,
   "metadata": {},
   "outputs": [
    {
     "data": {
      "text/plain": [
       "(226068, 32)"
      ]
     },
     "execution_count": 27,
     "metadata": {},
     "output_type": "execute_result"
    }
   ],
   "source": [
    "data_tablin.shape"
   ]
  },
  {
   "cell_type": "code",
   "execution_count": 28,
   "metadata": {},
   "outputs": [],
   "source": [
    "data_tablin.to_csv(r'C:\\Users\\Marta\\Scripts - Presentación\\tablin_datos_externos.csv', \n",
    "                   sep=';', encoding=\"latin1\", decimal=',', index=False)"
   ]
  }
 ],
 "metadata": {
  "kernelspec": {
   "display_name": "Python 3",
   "language": "python",
   "name": "python3"
  },
  "language_info": {
   "codemirror_mode": {
    "name": "ipython",
    "version": 3
   },
   "file_extension": ".py",
   "mimetype": "text/x-python",
   "name": "python",
   "nbconvert_exporter": "python",
   "pygments_lexer": "ipython3",
   "version": "3.7.0"
  }
 },
 "nbformat": 4,
 "nbformat_minor": 2
}
