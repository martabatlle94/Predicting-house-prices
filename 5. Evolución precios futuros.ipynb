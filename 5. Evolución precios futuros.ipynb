{
 "cells": [
  {
   "cell_type": "markdown",
   "metadata": {},
   "source": [
    "### Procesamiento de los datos"
   ]
  },
  {
   "cell_type": "code",
   "execution_count": 2,
   "metadata": {},
   "outputs": [
    {
     "name": "stdout",
     "output_type": "stream",
     "text": [
      "Using matplotlib backend: Qt5Agg\n",
      "Populating the interactive namespace from numpy and matplotlib\n"
     ]
    }
   ],
   "source": [
    "import requests\n",
    "import time\n",
    "import pprint\n",
    "import pickle\n",
    "import numpy as np\n",
    "import json\n",
    "import pandas as pd\n",
    "pd.set_option('display.float_format', lambda x: '{:.3f}'.format(x)) #Limiting floats output to 3 decimal points\n",
    "from matplotlib import pyplot as plt\n",
    "from collections import Counter\n",
    "from wordcloud import WordCloud\n",
    "import xml.etree.ElementTree as ET\n",
    "import re\n",
    "from unicodedata import normalize\n",
    "from sklearn import linear_model\n",
    "from sklearn.preprocessing import PolynomialFeatures\n",
    "from matplotlib import pyplot\n",
    "import seaborn as sns\n",
    "from sklearn import preprocessing\n",
    "from sklearn.model_selection import train_test_split\n",
    "from pandas_summary import DataFrameSummary\n",
    "%matplotlib\n",
    "%pylab inline\n",
    "pylab.rcParams['figure.figsize'] = (20, 10)\n",
    "import os\n",
    "import warnings\n",
    "warnings.simplefilter(action = 'ignore', category=FutureWarning)\n",
    "warnings.filterwarnings('ignore')\n",
    "def ignore_warn(*args, **kwargs):\n",
    "    pass\n",
    "warnings.warn = ignore_warn #ignore annoying warning (from sklearn and seaborn)\n",
    "import seaborn as sns\n",
    "sns.set(style=\"ticks\", color_codes=True, font_scale=1.5)\n",
    "color = sns.color_palette()\n",
    "sns.set_style('darkgrid')\n",
    "import mpl_toolkits\n",
    "from mpl_toolkits.mplot3d import Axes3D\n",
    "import pylab \n",
    "from pmdarima.arima import auto_arima\n",
    "from statsmodels.tsa.stattools import adfuller\n",
    "\n",
    "#AL EJECUTAR ESTE SCRIPT ACTUALIZAMOS LAS VIVIENDAS QUE TENEMOS DISPONIBLES PARA EL MODELO\n",
    "#lA SIGUIENTE TABLA ES LA TABLA FINAL QUE PROVIENE DEL PROYECTO Proyecto_datos_finales de SAS\n",
    "data_tablin = pd.read_csv(r'C:\\Users\\Marta\\Scripts - Presentación\\DATOS_FINAL.csv', \n",
    "                   sep=';', engine=\"python\", encoding=\"latin1\")\n",
    "\n",
    "data_tablin= data_tablin.loc[:,['MATRICULA','FCHTASAC','IMPTOTAL', 'SUPADAPT']]"
   ]
  },
  {
   "cell_type": "code",
   "execution_count": 3,
   "metadata": {},
   "outputs": [],
   "source": [
    "def troceador_calles_api(street):\n",
    "    words_street = []\n",
    "    words_in_street = street.split(' ')\n",
    "    for word in words_in_street:\n",
    "        words = word.split(',')\n",
    "        for w in words:\n",
    "            if '/' in w:\n",
    "                words.extend(w.split('/'))\n",
    "        for w in words:\n",
    "            if len(w) > 2 and w.upper() != 'DEL':\n",
    "                words_street.append(w)\n",
    "    return words_street\n",
    "          \n",
    "def comparador(streets_api, street_to_find):\n",
    "    words_street_to_find = troceador_calles_api(street_to_find)\n",
    "    streets = []\n",
    "    for street in streets_api:\n",
    "        words_street_api = troceador_calles_api(street)\n",
    "        coincidences = 0\n",
    "        for w1 in words_street_api:\n",
    "            w1 = normalizador(w1)\n",
    "            len_w1 = len(w1)\n",
    "            coincidences_words = 0\n",
    "            for w2 in words_street_to_find:\n",
    "                w2 = normalizador(w2)\n",
    "                if len_w1-1 < len(w2) < len_w1+1:\n",
    "                    if w2 in w1:\n",
    "                        coincidences_words += 1\n",
    "            coincidences += coincidences_words\n",
    "        if coincidences == len(words_street_to_find) and coincidences != 0:\n",
    "            streets.append(street)\n",
    "        elif coincidences >= max(int((len(words_street_api)+1)/2), int((len(words_street_to_find)+1)/2)):\n",
    "            streets.append(street)\n",
    "    \n",
    "    if len(streets)==1:\n",
    "        return streets[0]\n",
    "    else:\n",
    "        if len(set(streets))==1:\n",
    "            return streets[0]\n",
    "        else:\n",
    "            for street in streets:\n",
    "                if normalizador(street) in normalizador(street_to_find):\n",
    "                    return street\n",
    "            return False\n",
    "        \n",
    "def normalizador(string):\n",
    "    string = re.sub(\n",
    "        r\"([^n\\u0300-\\u036f]|n(?!\\u0303(?![\\u0300-\\u036f])))[\\u0300-\\u036f]+\", r\"\\1\", \n",
    "        normalize( \"NFD\", str(string)), 0, re.I\n",
    "    )\n",
    "    string = string.lower()\n",
    "    return normalize( 'NFC', string)\n",
    "\n",
    "def parseo_fecha_cuatrimeste(row):\n",
    "    if row[1] == 'Primero':\n",
    "        date = '01/01/'\n",
    "    elif row[1] == 'Segundo':\n",
    "        date = '01/04/'\n",
    "    elif row[1] == 'Tercero':\n",
    "        date = '01/07/'\n",
    "    elif row[1] == 'Cuarto':\n",
    "        date = '01/10/'\n",
    "    return date+str(row[0])"
   ]
  },
  {
   "cell_type": "code",
   "execution_count": 4,
   "metadata": {},
   "outputs": [],
   "source": [
    "data_tablin = data_tablin[data_tablin['FCHTASAC'].notnull()]\n",
    "data_tablin.loc[:,'DIA'] = data_tablin['FCHTASAC'].apply(lambda s: s[:2])\n",
    "data_tablin.loc[:,'MES'] = data_tablin['FCHTASAC'].apply(lambda s: s[2:5])\n",
    "data_tablin.loc[:,'AÑO'] = data_tablin['FCHTASAC'].apply(lambda s: int(s[5:9]))\n",
    "dict_cuatri = {'NOV':'Cuarto', 'SEP':'Tercero', 'OCT':'Cuarto', 'DEC':'Cuarto', 'MAR':'Primero', 'JAN':'Primero', 'MAY':'Segundo', 'FEB':'Primero', 'APR':'Segundo', 'JUN':'Segundo', 'JUL':'Tercero', 'AUG':'Tercero'}\n",
    "data_tablin['CUATRIMESTRE'] = data_tablin['MES'].map(dict_cuatri)\n",
    "data_tablin = data_tablin[(data_tablin['AÑO']>1994)&(data_tablin['AÑO']<2019)]\n",
    "\n",
    "data_tablin['Fecha'] = data_tablin.loc[:,['AÑO', 'CUATRIMESTRE']].apply(parseo_fecha_cuatrimeste,  axis=1)\n",
    "\n",
    "columns_to_del = ['DIA','MES','AÑO', 'CUATRIMESTRE','FCHTASAC']\n",
    "for col in columns_to_del:\n",
    "    del data_tablin[col]"
   ]
  },
  {
   "cell_type": "code",
   "execution_count": 5,
   "metadata": {},
   "outputs": [],
   "source": [
    "fechas = list(data_tablin.Fecha.drop_duplicates())\n",
    "dictionary_dates_date_to_num = {}\n",
    "dictionary_dates_num_to_date = {}\n",
    "for date_iter in range(len(fechas)):\n",
    "    dictionary_dates_date_to_num[fechas[date_iter]] = date_iter\n",
    "    dictionary_dates_num_to_date[date_iter] = fechas[date_iter]\n",
    "\n",
    "dictionary_dates_num_to_date[56] = '01/01/2019'\n",
    "dictionary_dates_num_to_date[57] = '01/04/2019'\n",
    "dictionary_dates_num_to_date[58] = '01/07/2019'\n",
    "dictionary_dates_num_to_date[59] = '01/10/2019'\n",
    "dictionary_dates_num_to_date[60] = '01/01/2020'\n",
    "dictionary_dates_num_to_date[61] = '01/04/2020'\n",
    "dictionary_dates_num_to_date[62] = '01/07/2020'\n",
    "dictionary_dates_num_to_date[63] = '01/10/2020'"
   ]
  },
  {
   "cell_type": "code",
   "execution_count": 6,
   "metadata": {},
   "outputs": [],
   "source": [
    "data_tablin = data_tablin[data_tablin['SUPADAPT']>1]"
   ]
  },
  {
   "cell_type": "code",
   "execution_count": 7,
   "metadata": {},
   "outputs": [],
   "source": [
    "dates = {}\n",
    "iter_ = 0\n",
    "for year in range(2005,2019):\n",
    "    for month in ['01','04','07','10']:\n",
    "        for day in ['01']:\n",
    "            dates[day+'/'+month+'/'+str(year)] = iter_\n",
    "            iter_ += 1"
   ]
  },
  {
   "cell_type": "code",
   "execution_count": 8,
   "metadata": {},
   "outputs": [],
   "source": [
    "data_tablin['Fecha_num'] = data_tablin['Fecha'].map(dates)\n",
    "data_pred_index = data_tablin.loc[:,['MATRICULA','Fecha_num']].groupby('MATRICULA').idxmax()   #agrupamos por matrícula (la fecha más reciente)\n",
    "tablin = data_tablin.loc[data_pred_index['Fecha_num']]   #filtramos y nos quedamos sin duplicados de la misma vivienda con distinta fecha \n",
    "data=tablin.drop(['MATRICULA','Fecha_num'], axis=1)"
   ]
  },
  {
   "cell_type": "code",
   "execution_count": 9,
   "metadata": {},
   "outputs": [],
   "source": [
    "data['Preciom2'] = data['IMPTOTAL']/data['SUPADAPT']  #cálculo del precio del m2\n",
    "data= data.loc[:,['Fecha','Preciom2']]\n",
    "data['Precio_medio'] = data.groupby(['Fecha'])['Preciom2'].transform('mean')   #media precio m2 por fecha (toda España)"
   ]
  },
  {
   "cell_type": "code",
   "execution_count": 10,
   "metadata": {},
   "outputs": [],
   "source": [
    "data = data.sort_values('Fecha')\n",
    "data.Fecha = pd.to_datetime(data.Fecha, format='%d/%m/%Y')\n",
    "data.index = data.Fecha\n",
    "\n",
    "data= data.loc[:,['Precio_medio']]\n",
    "#data= data[np.abs(data['Precio_medio']-data['Precio_medio'].mean()) <= (3*data['Precio_medio'].std())] "
   ]
  },
  {
   "cell_type": "code",
   "execution_count": 11,
   "metadata": {},
   "outputs": [],
   "source": [
    "data = data.drop_duplicates()\n",
    "data= data.dropna() \n",
    "data= data[~data.isin([np.nan, np.inf, -np.inf]).any(1)]"
   ]
  },
  {
   "cell_type": "code",
   "execution_count": 12,
   "metadata": {},
   "outputs": [],
   "source": [
    "data = data.sort_values('Fecha')"
   ]
  },
  {
   "cell_type": "code",
   "execution_count": 13,
   "metadata": {},
   "outputs": [
    {
     "data": {
      "text/plain": [
       "<matplotlib.axes._subplots.AxesSubplot at 0x1fa724144a8>"
      ]
     },
     "execution_count": 13,
     "metadata": {},
     "output_type": "execute_result"
    },
    {
     "data": {
      "image/png": "[encoded data removed]",
      "text/plain": [
       "<Figure size 432x288 with 1 Axes>"
      ]
     },
     "metadata": {
      "needs_background": "light"
     },
     "output_type": "display_data"
    }
   ],
   "source": [
    "data.plot()"
   ]
  },
  {
   "cell_type": "code",
   "execution_count": 14,
   "metadata": {},
   "outputs": [
    {
     "name": "stdout",
     "output_type": "stream",
     "text": [
      "ADF Statistic: -1.301443845380198\n",
      "p-value: 0.6285114940424725\n",
      "Critical Values:\n",
      "\t1%: -3.562878534649522\n",
      "\t5%: -2.918973284023669\n",
      "\t10%: -2.597393446745562\n"
     ]
    }
   ],
   "source": [
    "result = adfuller(data['Precio_medio'])\n",
    "print('ADF Statistic: {}'.format(result[0]))\n",
    "print('p-value: {}'.format(result[1]))\n",
    "print('Critical Values:')\n",
    "for key, value in result[4].items():\n",
    "    print('\\t{}: {}'.format(key, value))\n",
    "    \n",
    "#The Augmented Dickey-Fuller Test says data is stationary so an ARIMA would work"
   ]
  },
  {
   "cell_type": "code",
   "execution_count": 15,
   "metadata": {},
   "outputs": [
    {
     "data": {
      "text/plain": [
       "(56, 1)"
      ]
     },
     "execution_count": 15,
     "metadata": {},
     "output_type": "execute_result"
    }
   ],
   "source": [
    "data.shape"
   ]
  },
  {
   "cell_type": "code",
   "execution_count": 16,
   "metadata": {},
   "outputs": [
    {
     "name": "stdout",
     "output_type": "stream",
     "text": [
      "Fit ARIMA: order=(1, 1, 1) seasonal_order=(1, 1, 1, 2); AIC=806.692, BIC=818.513, Fit time=0.231 seconds\n",
      "Fit ARIMA: order=(0, 1, 0) seasonal_order=(0, 1, 0, 2); AIC=852.463, BIC=856.404, Fit time=0.000 seconds\n",
      "Fit ARIMA: order=(1, 1, 0) seasonal_order=(1, 1, 0, 2); AIC=816.125, BIC=824.006, Fit time=0.157 seconds\n",
      "Fit ARIMA: order=(0, 1, 1) seasonal_order=(0, 1, 1, 2); AIC=805.364, BIC=813.245, Fit time=0.166 seconds\n",
      "Fit ARIMA: order=(0, 1, 1) seasonal_order=(1, 1, 1, 2); AIC=806.636, BIC=816.487, Fit time=0.189 seconds\n",
      "Fit ARIMA: order=(0, 1, 1) seasonal_order=(0, 1, 0, 2); AIC=826.606, BIC=832.516, Fit time=0.055 seconds\n",
      "Fit ARIMA: order=(0, 1, 1) seasonal_order=(0, 1, 2, 2); AIC=812.085, BIC=821.937, Fit time=0.214 seconds\n",
      "Fit ARIMA: order=(0, 1, 1) seasonal_order=(1, 1, 2, 2); AIC=813.638, BIC=825.460, Fit time=0.278 seconds\n",
      "Fit ARIMA: order=(1, 1, 1) seasonal_order=(0, 1, 1, 2); AIC=818.271, BIC=828.122, Fit time=0.173 seconds\n",
      "Fit ARIMA: order=(0, 1, 0) seasonal_order=(0, 1, 1, 2); AIC=821.524, BIC=827.435, Fit time=0.095 seconds\n",
      "Total fit time: 1.574 seconds\n"
     ]
    }
   ],
   "source": [
    "stepwise_model = auto_arima(data, start_p=2, start_q=2,\n",
    "                           max_p=5, max_q=5, m=2, maxiter=30,\n",
    "                           start_P=1, seasonal=True,\n",
    "                           d=1, D=1,\n",
    "                           trace=True,\n",
    "                           error_action='ignore',  \n",
    "                           suppress_warnings=True, \n",
    "                           stepwise=True)"
   ]
  },
  {
   "cell_type": "code",
   "execution_count": 17,
   "metadata": {},
   "outputs": [],
   "source": [
    "model_fit= stepwise_model.fit(data)"
   ]
  },
  {
   "cell_type": "code",
   "execution_count": 18,
   "metadata": {},
   "outputs": [
    {
     "data": {
      "text/plain": [
       "array([ 1577.70111059,   553.2540949 ,  -820.40253676,  -486.66302031,\n",
       "        -243.67680715,  -263.18406667,   565.97984405,  -595.37658627,\n",
       "        -541.30620052,  -324.14560952,  2007.59502026,  -736.29436977,\n",
       "       -1448.06414904,  -458.84025056,  -568.78376334,  -439.09910602,\n",
       "        -493.93866316,  -296.51242285,  -321.00081556,   254.39186275,\n",
       "        -115.26916283,   395.19006713,  -491.7610437 ,   135.89095079,\n",
       "        -491.52813972,   270.32637958,  -147.85102001,  -144.37713305,\n",
       "        -337.73902772,   189.6740461 ,  -198.81299359,   200.28338695,\n",
       "        -233.77066939,   -52.23505025,    84.11566075,    11.5412451 ,\n",
       "        -164.82015839,  -433.71051428,   208.14032697,   593.25357201,\n",
       "          36.64679865,    37.76075396,    74.25648005,    69.79124224,\n",
       "          87.24797071,   161.93950632,   128.07686244,   138.55160245,\n",
       "         163.35107336,   138.00596744,  -104.51186231,    40.49768127,\n",
       "         236.38265582,   144.01788689,   171.93708955,     6.72791936])"
      ]
     },
     "execution_count": 18,
     "metadata": {},
     "output_type": "execute_result"
    }
   ],
   "source": [
    "stepwise_model.resid()"
   ]
  },
  {
   "cell_type": "code",
   "execution_count": 19,
   "metadata": {},
   "outputs": [],
   "source": [
    "arima_residuals = pd.DataFrame(list(stepwise_model.resid()), index = data.index, columns=['Residuals'])\n",
    "#el modelo arima solo representa los valores que ha predicho\n",
    "#si queremos representarlos para poder comparar los resultados del modelo con la realidad, calculamos lo siguiente\n",
    "data_residuals = pd.concat([data.iloc[1:], arima_residuals.iloc[1:]], axis=1, sort=True)\n",
    "data_residuals['Predicts'] = data_residuals.loc[:, ['Precio_medio', 'Residuals']].apply(lambda s: s[0]+s[1], axis=1)\n",
    "del data_residuals['Residuals']\n",
    "future_forecast = stepwise_model.predict(n_periods=8)   #predicción arima con menor AIC (8 trimestres a futuro)\n",
    "future_forecast = pd.DataFrame(future_forecast, index = pd.to_datetime(['01/01/2019', '01/04/2019', '01/07/2019',\n",
    "                                                                        '01/10/2019', '01/01/2020', '01/04/2020',\n",
    "                                                                        '01/07/2020', '01/10/2020'], format='%d/%m/%Y'),columns=['Predicts'])\n",
    "data_residuals = data_residuals.append(future_forecast)\n",
    "\n",
    "a, conf_int_05 = stepwise_model.predict(n_periods=8, return_conf_int=True, alpha=0.5)\n",
    "a, conf_int_95 = stepwise_model.predict(n_periods=8, return_conf_int=True, alpha=0.05)  #calculamos el intervalo de confianza del 95%\n",
    "\n",
    "plt.rcParams.update({'font.size': 16}) "
   ]
  },
  {
   "cell_type": "code",
   "execution_count": 20,
   "metadata": {},
   "outputs": [],
   "source": [
    "data_residuals.columns=['Precio_medio', 'BS_PREU']"
   ]
  },
  {
   "cell_type": "code",
   "execution_count": 21,
   "metadata": {},
   "outputs": [],
   "source": [
    "actual= data_residuals['Precio_medio']\n",
    "forecast= data_residuals['BS_PREU']\n",
    "\n",
    "data_residuals['Error_MAPE']= round(np.abs(forecast - actual)/np.abs(actual),2)*100\n",
    "\n",
    "data_residuals['Error_RMSE']=round(((forecast - actual)**2)**.5)  # RMSE"
   ]
  },
  {
   "cell_type": "code",
   "execution_count": 24,
   "metadata": {},
   "outputs": [],
   "source": [
    "data_residuals['index']= data_residuals.index"
   ]
  },
  {
   "cell_type": "code",
   "execution_count": 27,
   "metadata": {},
   "outputs": [],
   "source": [
    "data_residuals= data_residuals.loc[:,['index', 'Precio_medio','BS_PREU','Error_MAPE','Error_RMSE']]"
   ]
  },
  {
   "cell_type": "code",
   "execution_count": 47,
   "metadata": {},
   "outputs": [],
   "source": [
    "data_residuals['index']=data_residuals['index'].dt.tz_localize(None)"
   ]
  },
  {
   "cell_type": "code",
   "execution_count": 50,
   "metadata": {},
   "outputs": [],
   "source": [
    "writer= pd.ExcelWriter(r'C:\\Users\\Marta\\Desktop\\Rotación 2 SBD\\BackUp_Proyecto\\Python Scripts\\resultados_ARIMA_excel.xlsx', date_format='yyyy-mm-dd')  \n",
    "data_residuals.to_excel(writer)\n"
   ]
  },
  {
   "cell_type": "code",
   "execution_count": 22,
   "metadata": {},
   "outputs": [],
   "source": [
    "del data_residuals['Error_MAPE']\n",
    "del data_residuals['Error_RMSE']\n",
    "data_residuals.columns=['Precio_medio', 'Predicts']"
   ]
  },
  {
   "cell_type": "code",
   "execution_count": 23,
   "metadata": {},
   "outputs": [],
   "source": [
    "tablin= tablin.dropna()\n",
    "tablin= tablin[~tablin.isin([np.nan, np.inf, -np.inf]).any(1)]\n",
    "fechas = list(tablin.Fecha.drop_duplicates())"
   ]
  },
  {
   "cell_type": "code",
   "execution_count": 24,
   "metadata": {},
   "outputs": [],
   "source": [
    "dictionary_dates_date_to_num = {}\n",
    "dictionary_dates_num_to_date = {}\n",
    "for date_iter in range(len(fechas)):\n",
    "    dictionary_dates_date_to_num[fechas[date_iter]] = date_iter\n",
    "    dictionary_dates_num_to_date[date_iter] = fechas[date_iter]\n",
    "dictionary_dates_num_to_date[56] = '01/01/2019'\n",
    "dictionary_dates_num_to_date[57] = '01/04/2019'\n",
    "dictionary_dates_num_to_date[58] = '01/07/2019'\n",
    "dictionary_dates_num_to_date[59] = '01/10/2019'\n",
    "dictionary_dates_num_to_date[60] = '01/01/2020'\n",
    "dictionary_dates_num_to_date[61] = '01/04/2020'\n",
    "dictionary_dates_num_to_date[62] = '01/07/2020'\n",
    "dictionary_dates_num_to_date[63] = '01/10/2020'   #info de los siguientes 8 trimestres (tenemos que asignarlo ya que el modelo no acepta fechas como índice)\n",
    "list_dates = pd.to_datetime( list(dictionary_dates_num_to_date.values()), format='%d/%m/%Y')[:-1]\n",
    "list_dates= list_dates.sort_values()"
   ]
  },
  {
   "cell_type": "code",
   "execution_count": 25,
   "metadata": {},
   "outputs": [],
   "source": [
    "dictionary_dates_date_to_num = {}\n",
    "dictionary_dates_num_to_date = {}\n",
    "for date_iter in range(len(fechas)):\n",
    "    dictionary_dates_date_to_num[fechas[date_iter]] = date_iter\n",
    "    dictionary_dates_num_to_date[date_iter] = fechas[date_iter]"
   ]
  },
  {
   "cell_type": "code",
   "execution_count": 26,
   "metadata": {},
   "outputs": [
    {
     "data": {
      "image/png": "[encoded data removed]",
      "text/plain": [
       "<Figure size 1080x720 with 1 Axes>"
      ]
     },
     "metadata": {
      "needs_background": "light"
     },
     "output_type": "display_data"
    }
   ],
   "source": [
    "import matplotlib.dates as mdates\n",
    "fig, ax = plt.subplots(figsize=(15,10))\n",
    "years = mdates.YearLocator()   # every year\n",
    "months = mdates.MonthLocator()  # every month\n",
    "years_fmt = mdates.DateFormatter('%Y')\n",
    "ax.plot(list_dates[54:], [data_residuals['Precio_medio'][-9]]+list(data_residuals['Predicts'][55:]), alpha=1, linewidth=3.00, color='black')  # Forecasts\n",
    "ax.plot(list_dates, data_residuals['Precio_medio'], alpha=1, linewidth=3.00, color=(0, 150/255, 200/255))\n",
    "ax.xaxis.set_major_locator(years)\n",
    "ax.xaxis.set_major_formatter(years_fmt)\n",
    "ax.xaxis.set_minor_locator(months)\n",
    "\n",
    "\n",
    "ax.fill_between(list_dates[-len(future_forecast):],\n",
    "                 conf_int_05[:, 0], conf_int_05[:, 1],\n",
    "                 alpha=0.35, color='black')\n",
    "ax.fill_between(list_dates[-len(future_forecast):],\n",
    "                 conf_int_95[:, 0], conf_int_95[:, 1],\n",
    "                 alpha=0.35, color=(0, 150/255, 200/255))  #para hacer el intervalo de confianza\n",
    "plt.title(\"Media del precio del metro cuadrado en España\", pad=20)\n",
    "plt.xlabel(\"Fecha\", labelpad=20)\n",
    "#plt.xticks(rotation='vertical')\n",
    "plt.ylabel(\"Precio m2\", labelpad=20)\n",
    "\n",
    "plt.show()"
   ]
  },
  {
   "cell_type": "code",
   "execution_count": 27,
   "metadata": {},
   "outputs": [],
   "source": [
    "data_residuals['index']= data_residuals.index\n",
    "data_residuals['year']= data_residuals.index.year\n",
    "data_residuals['month']= data_residuals.index.month\n",
    "data_residuals['month'] = data_residuals['month'].map(\"{:02}\".format)\n",
    "data_residuals['date']= (data_residuals.year.astype(str) + data_residuals.month.astype(str))\n",
    "data_residuals.index= data_residuals['date']\n",
    "del data_residuals['year']\n",
    "del data_residuals['month']\n",
    "del data_residuals['date']\n",
    "del data_residuals['index']\n"
   ]
  },
  {
   "cell_type": "code",
   "execution_count": 28,
   "metadata": {},
   "outputs": [
    {
     "data": {
      "image/png": "[encoded data removed]",
      "text/plain": [
       "<Figure size 1080x720 with 1 Axes>"
      ]
     },
     "metadata": {
      "needs_background": "light"
     },
     "output_type": "display_data"
    }
   ],
   "source": [
    "import matplotlib.dates as mdates\n",
    "fig, ax = plt.subplots(figsize=(15,10))\n",
    "years = mdates.YearLocator()   # every year\n",
    "months = mdates.MonthLocator()  # every month\n",
    "years_fmt = mdates.DateFormatter('%Y')\n",
    "ax.plot(list_dates[54:], [data_residuals['Precio_medio'][-9]]+list(data_residuals['Predicts'][55:]), alpha=1, linewidth=3.00, color='black')  # Forecasts\n",
    "ax.plot(list_dates, data_residuals['Precio_medio'], alpha=1, linewidth=3.00, color=(0, 150/255, 200/255))\n",
    "ax.set_xlim(['01/10/2018', '01/07/2020'])\n",
    "ax.xaxis.set_major_locator(years)\n",
    "ax.xaxis.set_major_formatter(years_fmt)\n",
    "ax.xaxis.set_minor_locator(months)\n",
    "\n",
    "\n",
    "ax.fill_between(list_dates[-len(future_forecast):],\n",
    "                 conf_int_05[:, 0], conf_int_05[:, 1],\n",
    "                 alpha=0.35, color='black')\n",
    "ax.fill_between(list_dates[-len(future_forecast):],\n",
    "                 conf_int_95[:, 0], conf_int_95[:, 1],\n",
    "                 alpha=0.35, color=(0, 150/255, 200/255))  #para hacer el intervalo de confianza\n",
    "plt.title(\"Media del precio del metro cuadrado en España\", pad=20)\n",
    "plt.xlabel(\"Fecha\", labelpad=20)\n",
    "#plt.xticks(rotation='vertical')\n",
    "plt.ylabel(\"Precio m2\", labelpad=20)\n",
    "\n",
    "plt.show()"
   ]
  },
  {
   "cell_type": "code",
   "execution_count": null,
   "metadata": {},
   "outputs": [],
   "source": []
  },
  {
   "cell_type": "code",
   "execution_count": null,
   "metadata": {},
   "outputs": [],
   "source": []
  }
 ],
 "metadata": {
  "kernelspec": {
   "display_name": "Python 3",
   "language": "python",
   "name": "python3"
  },
  "language_info": {
   "codemirror_mode": {
    "name": "ipython",
    "version": 3
   },
   "file_extension": ".py",
   "mimetype": "text/x-python",
   "name": "python",
   "nbconvert_exporter": "python",
   "pygments_lexer": "ipython3",
   "version": "3.7.0"
  }
 },
 "nbformat": 4,
 "nbformat_minor": 2
}
